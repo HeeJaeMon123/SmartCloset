{
  "nbformat": 4,
  "nbformat_minor": 0,
  "metadata": {
    "colab": {
      "name": "Untitled0.ipynb",
      "provenance": [],
      "collapsed_sections": []
    },
    "kernelspec": {
      "name": "python3",
      "display_name": "Python 3"
    },
    "language_info": {
      "name": "python"
    },
    "accelerator": "GPU",
    "widgets": {
      "application/vnd.jupyter.widget-state+json": {
        "8c23e931c03c4e699bf680479a2aab55": {
          "model_module": "@jupyter-widgets/controls",
          "model_name": "HBoxModel",
          "model_module_version": "1.5.0",
          "state": {
            "_view_name": "HBoxView",
            "_dom_classes": [],
            "_model_name": "HBoxModel",
            "_view_module": "@jupyter-widgets/controls",
            "_model_module_version": "1.5.0",
            "_view_count": null,
            "_view_module_version": "1.5.0",
            "box_style": "",
            "layout": "IPY_MODEL_080b0c02f79e4fbda57472ed110936d8",
            "_model_module": "@jupyter-widgets/controls",
            "children": [
              "IPY_MODEL_14a572fda448432aa5dca5c359845109",
              "IPY_MODEL_7733e1194f304f42ab2aee91a9044eb2",
              "IPY_MODEL_c5a996ae45a8434082c2a1d853f77c77"
            ]
          }
        },
        "080b0c02f79e4fbda57472ed110936d8": {
          "model_module": "@jupyter-widgets/base",
          "model_name": "LayoutModel",
          "model_module_version": "1.2.0",
          "state": {
            "_view_name": "LayoutView",
            "grid_template_rows": null,
            "right": null,
            "justify_content": null,
            "_view_module": "@jupyter-widgets/base",
            "overflow": null,
            "_model_module_version": "1.2.0",
            "_view_count": null,
            "flex_flow": null,
            "width": null,
            "min_width": null,
            "border": null,
            "align_items": null,
            "bottom": null,
            "_model_module": "@jupyter-widgets/base",
            "top": null,
            "grid_column": null,
            "overflow_y": null,
            "overflow_x": null,
            "grid_auto_flow": null,
            "grid_area": null,
            "grid_template_columns": null,
            "flex": null,
            "_model_name": "LayoutModel",
            "justify_items": null,
            "grid_row": null,
            "max_height": null,
            "align_content": null,
            "visibility": null,
            "align_self": null,
            "height": null,
            "min_height": null,
            "padding": null,
            "grid_auto_rows": null,
            "grid_gap": null,
            "max_width": null,
            "order": null,
            "_view_module_version": "1.2.0",
            "grid_template_areas": null,
            "object_position": null,
            "object_fit": null,
            "grid_auto_columns": null,
            "margin": null,
            "display": null,
            "left": null
          }
        },
        "14a572fda448432aa5dca5c359845109": {
          "model_module": "@jupyter-widgets/controls",
          "model_name": "HTMLModel",
          "model_module_version": "1.5.0",
          "state": {
            "_view_name": "HTMLView",
            "style": "IPY_MODEL_4eae912be624428ead1f645eeac8d289",
            "_dom_classes": [],
            "description": "",
            "_model_name": "HTMLModel",
            "placeholder": "​",
            "_view_module": "@jupyter-widgets/controls",
            "_model_module_version": "1.5.0",
            "value": "100%",
            "_view_count": null,
            "_view_module_version": "1.5.0",
            "description_tooltip": null,
            "_model_module": "@jupyter-widgets/controls",
            "layout": "IPY_MODEL_6cf5d44047dd4890a34ce92736e2d698"
          }
        },
        "7733e1194f304f42ab2aee91a9044eb2": {
          "model_module": "@jupyter-widgets/controls",
          "model_name": "FloatProgressModel",
          "model_module_version": "1.5.0",
          "state": {
            "_view_name": "ProgressView",
            "style": "IPY_MODEL_5a5356d046084080b4f8b1c8511f70ed",
            "_dom_classes": [],
            "description": "",
            "_model_name": "FloatProgressModel",
            "bar_style": "success",
            "max": 52147035,
            "_view_module": "@jupyter-widgets/controls",
            "_model_module_version": "1.5.0",
            "value": 52147035,
            "_view_count": null,
            "_view_module_version": "1.5.0",
            "orientation": "horizontal",
            "min": 0,
            "description_tooltip": null,
            "_model_module": "@jupyter-widgets/controls",
            "layout": "IPY_MODEL_1d484d54476347888d469cc061e9fd8b"
          }
        },
        "c5a996ae45a8434082c2a1d853f77c77": {
          "model_module": "@jupyter-widgets/controls",
          "model_name": "HTMLModel",
          "model_module_version": "1.5.0",
          "state": {
            "_view_name": "HTMLView",
            "style": "IPY_MODEL_b833b999ea6343f3ad92fd8bd2fa775e",
            "_dom_classes": [],
            "description": "",
            "_model_name": "HTMLModel",
            "placeholder": "​",
            "_view_module": "@jupyter-widgets/controls",
            "_model_module_version": "1.5.0",
            "value": " 49.7M/49.7M [00:00&lt;00:00, 111MB/s]",
            "_view_count": null,
            "_view_module_version": "1.5.0",
            "description_tooltip": null,
            "_model_module": "@jupyter-widgets/controls",
            "layout": "IPY_MODEL_274f356f8f234b9ba17076c45399b6b1"
          }
        },
        "4eae912be624428ead1f645eeac8d289": {
          "model_module": "@jupyter-widgets/controls",
          "model_name": "DescriptionStyleModel",
          "model_module_version": "1.5.0",
          "state": {
            "_view_name": "StyleView",
            "_model_name": "DescriptionStyleModel",
            "description_width": "",
            "_view_module": "@jupyter-widgets/base",
            "_model_module_version": "1.5.0",
            "_view_count": null,
            "_view_module_version": "1.2.0",
            "_model_module": "@jupyter-widgets/controls"
          }
        },
        "6cf5d44047dd4890a34ce92736e2d698": {
          "model_module": "@jupyter-widgets/base",
          "model_name": "LayoutModel",
          "model_module_version": "1.2.0",
          "state": {
            "_view_name": "LayoutView",
            "grid_template_rows": null,
            "right": null,
            "justify_content": null,
            "_view_module": "@jupyter-widgets/base",
            "overflow": null,
            "_model_module_version": "1.2.0",
            "_view_count": null,
            "flex_flow": null,
            "width": null,
            "min_width": null,
            "border": null,
            "align_items": null,
            "bottom": null,
            "_model_module": "@jupyter-widgets/base",
            "top": null,
            "grid_column": null,
            "overflow_y": null,
            "overflow_x": null,
            "grid_auto_flow": null,
            "grid_area": null,
            "grid_template_columns": null,
            "flex": null,
            "_model_name": "LayoutModel",
            "justify_items": null,
            "grid_row": null,
            "max_height": null,
            "align_content": null,
            "visibility": null,
            "align_self": null,
            "height": null,
            "min_height": null,
            "padding": null,
            "grid_auto_rows": null,
            "grid_gap": null,
            "max_width": null,
            "order": null,
            "_view_module_version": "1.2.0",
            "grid_template_areas": null,
            "object_position": null,
            "object_fit": null,
            "grid_auto_columns": null,
            "margin": null,
            "display": null,
            "left": null
          }
        },
        "5a5356d046084080b4f8b1c8511f70ed": {
          "model_module": "@jupyter-widgets/controls",
          "model_name": "ProgressStyleModel",
          "model_module_version": "1.5.0",
          "state": {
            "_view_name": "StyleView",
            "_model_name": "ProgressStyleModel",
            "description_width": "",
            "_view_module": "@jupyter-widgets/base",
            "_model_module_version": "1.5.0",
            "_view_count": null,
            "_view_module_version": "1.2.0",
            "bar_color": null,
            "_model_module": "@jupyter-widgets/controls"
          }
        },
        "1d484d54476347888d469cc061e9fd8b": {
          "model_module": "@jupyter-widgets/base",
          "model_name": "LayoutModel",
          "model_module_version": "1.2.0",
          "state": {
            "_view_name": "LayoutView",
            "grid_template_rows": null,
            "right": null,
            "justify_content": null,
            "_view_module": "@jupyter-widgets/base",
            "overflow": null,
            "_model_module_version": "1.2.0",
            "_view_count": null,
            "flex_flow": null,
            "width": null,
            "min_width": null,
            "border": null,
            "align_items": null,
            "bottom": null,
            "_model_module": "@jupyter-widgets/base",
            "top": null,
            "grid_column": null,
            "overflow_y": null,
            "overflow_x": null,
            "grid_auto_flow": null,
            "grid_area": null,
            "grid_template_columns": null,
            "flex": null,
            "_model_name": "LayoutModel",
            "justify_items": null,
            "grid_row": null,
            "max_height": null,
            "align_content": null,
            "visibility": null,
            "align_self": null,
            "height": null,
            "min_height": null,
            "padding": null,
            "grid_auto_rows": null,
            "grid_gap": null,
            "max_width": null,
            "order": null,
            "_view_module_version": "1.2.0",
            "grid_template_areas": null,
            "object_position": null,
            "object_fit": null,
            "grid_auto_columns": null,
            "margin": null,
            "display": null,
            "left": null
          }
        },
        "b833b999ea6343f3ad92fd8bd2fa775e": {
          "model_module": "@jupyter-widgets/controls",
          "model_name": "DescriptionStyleModel",
          "model_module_version": "1.5.0",
          "state": {
            "_view_name": "StyleView",
            "_model_name": "DescriptionStyleModel",
            "description_width": "",
            "_view_module": "@jupyter-widgets/base",
            "_model_module_version": "1.5.0",
            "_view_count": null,
            "_view_module_version": "1.2.0",
            "_model_module": "@jupyter-widgets/controls"
          }
        },
        "274f356f8f234b9ba17076c45399b6b1": {
          "model_module": "@jupyter-widgets/base",
          "model_name": "LayoutModel",
          "model_module_version": "1.2.0",
          "state": {
            "_view_name": "LayoutView",
            "grid_template_rows": null,
            "right": null,
            "justify_content": null,
            "_view_module": "@jupyter-widgets/base",
            "overflow": null,
            "_model_module_version": "1.2.0",
            "_view_count": null,
            "flex_flow": null,
            "width": null,
            "min_width": null,
            "border": null,
            "align_items": null,
            "bottom": null,
            "_model_module": "@jupyter-widgets/base",
            "top": null,
            "grid_column": null,
            "overflow_y": null,
            "overflow_x": null,
            "grid_auto_flow": null,
            "grid_area": null,
            "grid_template_columns": null,
            "flex": null,
            "_model_name": "LayoutModel",
            "justify_items": null,
            "grid_row": null,
            "max_height": null,
            "align_content": null,
            "visibility": null,
            "align_self": null,
            "height": null,
            "min_height": null,
            "padding": null,
            "grid_auto_rows": null,
            "grid_gap": null,
            "max_width": null,
            "order": null,
            "_view_module_version": "1.2.0",
            "grid_template_areas": null,
            "object_position": null,
            "object_fit": null,
            "grid_auto_columns": null,
            "margin": null,
            "display": null,
            "left": null
          }
        }
      }
    }
  },
  "cells": [
    {
      "cell_type": "code",
      "metadata": {
        "colab": {
          "base_uri": "https://localhost:8080/"
        },
        "id": "DWaKpahj4a79",
        "outputId": "d487dc2a-7b9d-4e68-a881-fa02a4da6b1e"
      },
      "source": [
        "from google.colab import drive\n",
        "drive.mount('/content/drive')"
      ],
      "execution_count": 8,
      "outputs": [
        {
          "output_type": "stream",
          "name": "stdout",
          "text": [
            "Drive already mounted at /content/drive; to attempt to forcibly remount, call drive.mount(\"/content/drive\", force_remount=True).\n"
          ]
        }
      ]
    },
    {
      "cell_type": "code",
      "metadata": {
        "id": "Tj9tV6tvl3fe",
        "colab": {
          "base_uri": "https://localhost:8080/"
        },
        "outputId": "82deb322-2f19-4f4a-bbac-3742d8cd79c9"
      },
      "source": [
        "import glob\n",
        "len(glob.glob('/content/drive/MyDrive/Colab Notebooks/zip_files/*'))"
      ],
      "execution_count": 3,
      "outputs": [
        {
          "output_type": "execute_result",
          "data": {
            "text/plain": [
              "45"
            ]
          },
          "metadata": {},
          "execution_count": 3
        }
      ]
    },
    {
      "cell_type": "code",
      "source": [
        "zip_files = glob.glob('/content/drive/MyDrive/Colab Notebooks/zip_files/*')"
      ],
      "metadata": {
        "id": "hAJ2dQBk992F"
      },
      "execution_count": 4,
      "outputs": []
    },
    {
      "cell_type": "code",
      "source": [
        "zip_files[0].split('/')[-1].split('.')[0]"
      ],
      "metadata": {
        "colab": {
          "base_uri": "https://localhost:8080/",
          "height": 35
        },
        "id": "grThnqyS-_4W",
        "outputId": "51c7e364-119f-4d5d-c6e3-3b3ce0dea3d2"
      },
      "execution_count": 6,
      "outputs": [
        {
          "output_type": "execute_result",
          "data": {
            "application/vnd.google.colaboratory.intrinsic+json": {
              "type": "string"
            },
            "text/plain": [
              "'Top'"
            ]
          },
          "metadata": {},
          "execution_count": 6
        }
      ]
    },
    {
      "cell_type": "code",
      "metadata": {
        "id": "ce5RIK4qd4ek"
      },
      "source": [
        "!unzip i -d /content/drive/MyDrive/\"Colab Notebooks\"/ML_data"
      ],
      "execution_count": null,
      "outputs": []
    },
    {
      "cell_type": "code",
      "source": [
        "import zipfile"
      ],
      "metadata": {
        "id": "rZXWamzPASZt"
      },
      "execution_count": 7,
      "outputs": []
    },
    {
      "cell_type": "code",
      "source": [
        "\n",
        "with zipfile.ZipFile('data/temp/new_comp.zip') as existing_zip:\n",
        "    existing_zip.extract('test1.txt', 'data/temp/ext2')"
      ],
      "metadata": {
        "id": "iIMT3MHUAMGz"
      },
      "execution_count": null,
      "outputs": []
    },
    {
      "cell_type": "code",
      "source": [
        "files = 'Coat'\n",
        "zipfile.ZipFile('/content/drive/MyDrive/Colab Notebooks/zip_files/Anorak.zip')"
      ],
      "metadata": {
        "colab": {
          "base_uri": "https://localhost:8080/"
        },
        "id": "mfwN1-9lAcBd",
        "outputId": "f9ec5a87-ca40-4b3f-f6b1-7c02870702ee"
      },
      "execution_count": 8,
      "outputs": [
        {
          "output_type": "execute_result",
          "data": {
            "text/plain": [
              "<zipfile.ZipFile filename='/content/drive/MyDrive/Colab Notebooks/zip_files/Anorak.zip' mode='r'>"
            ]
          },
          "metadata": {},
          "execution_count": 8
        }
      ]
    },
    {
      "cell_type": "code",
      "source": [
        "/content/drive/MyDrive/Colab Notebooks/ML_final_data"
      ],
      "metadata": {
        "id": "Pub3a7maDYoI"
      },
      "execution_count": null,
      "outputs": []
    },
    {
      "cell_type": "code",
      "source": [
        "for i in enumerate(zip_files):\n",
        "    print(i)\n",
        "    break"
      ],
      "metadata": {
        "colab": {
          "base_uri": "https://localhost:8080/"
        },
        "id": "wl3IcTiADgzY",
        "outputId": "19e836fc-37fb-47f0-bf23-229281129a71"
      },
      "execution_count": null,
      "outputs": [
        {
          "output_type": "stream",
          "name": "stdout",
          "text": [
            "(0, '/content/drive/MyDrive/Colab Notebooks/zip_files/Top.zip')\n"
          ]
        }
      ]
    },
    {
      "cell_type": "code",
      "source": [
        "'/content/drive/MyDrive/Colab Notebooks/ML_final_data/'+file_name"
      ],
      "metadata": {
        "colab": {
          "base_uri": "https://localhost:8080/",
          "height": 174
        },
        "id": "17r_UIqWEfzQ",
        "outputId": "effbec28-144e-4216-b534-2466285d3e2e"
      },
      "execution_count": 9,
      "outputs": [
        {
          "output_type": "error",
          "ename": "NameError",
          "evalue": "ignored",
          "traceback": [
            "\u001b[0;31m---------------------------------------------------------------------------\u001b[0m",
            "\u001b[0;31mNameError\u001b[0m                                 Traceback (most recent call last)",
            "\u001b[0;32m<ipython-input-9-bd871f9ce8c6>\u001b[0m in \u001b[0;36m<module>\u001b[0;34m()\u001b[0m\n\u001b[0;32m----> 1\u001b[0;31m \u001b[0;34m'/content/drive/MyDrive/Colab Notebooks/ML_final_data/'\u001b[0m\u001b[0;34m+\u001b[0m\u001b[0mfile_name\u001b[0m\u001b[0;34m\u001b[0m\u001b[0;34m\u001b[0m\u001b[0m\n\u001b[0m",
            "\u001b[0;31mNameError\u001b[0m: name 'file_name' is not defined"
          ]
        }
      ]
    },
    {
      "cell_type": "code",
      "source": [
        "file_name = zip_files[idx].split('/')[-1].split('.')[0]\n",
        "with zipfile.ZipFile(i) as existing_zip:\n",
        "     existing_zip.extract(i,'/content/drive/MyDrive/Colab Notebooks/ML_final_data/'+file_name)"
      ],
      "metadata": {
        "id": "P_6wekVFG2_D",
        "colab": {
          "base_uri": "https://localhost:8080/",
          "height": 211
        },
        "outputId": "ea803c44-3bad-404f-e41d-d95e2d46d335"
      },
      "execution_count": 10,
      "outputs": [
        {
          "output_type": "error",
          "ename": "NameError",
          "evalue": "ignored",
          "traceback": [
            "\u001b[0;31m---------------------------------------------------------------------------\u001b[0m",
            "\u001b[0;31mNameError\u001b[0m                                 Traceback (most recent call last)",
            "\u001b[0;32m<ipython-input-10-e86e6798ec5f>\u001b[0m in \u001b[0;36m<module>\u001b[0;34m()\u001b[0m\n\u001b[0;32m----> 1\u001b[0;31m \u001b[0mfile_name\u001b[0m \u001b[0;34m=\u001b[0m \u001b[0mzip_files\u001b[0m\u001b[0;34m[\u001b[0m\u001b[0midx\u001b[0m\u001b[0;34m]\u001b[0m\u001b[0;34m.\u001b[0m\u001b[0msplit\u001b[0m\u001b[0;34m(\u001b[0m\u001b[0;34m'/'\u001b[0m\u001b[0;34m)\u001b[0m\u001b[0;34m[\u001b[0m\u001b[0;34m-\u001b[0m\u001b[0;36m1\u001b[0m\u001b[0;34m]\u001b[0m\u001b[0;34m.\u001b[0m\u001b[0msplit\u001b[0m\u001b[0;34m(\u001b[0m\u001b[0;34m'.'\u001b[0m\u001b[0;34m)\u001b[0m\u001b[0;34m[\u001b[0m\u001b[0;36m0\u001b[0m\u001b[0;34m]\u001b[0m\u001b[0;34m\u001b[0m\u001b[0;34m\u001b[0m\u001b[0m\n\u001b[0m\u001b[1;32m      2\u001b[0m \u001b[0;32mwith\u001b[0m \u001b[0mzipfile\u001b[0m\u001b[0;34m.\u001b[0m\u001b[0mZipFile\u001b[0m\u001b[0;34m(\u001b[0m\u001b[0mi\u001b[0m\u001b[0;34m)\u001b[0m \u001b[0;32mas\u001b[0m \u001b[0mexisting_zip\u001b[0m\u001b[0;34m:\u001b[0m\u001b[0;34m\u001b[0m\u001b[0;34m\u001b[0m\u001b[0m\n\u001b[1;32m      3\u001b[0m      \u001b[0mexisting_zip\u001b[0m\u001b[0;34m.\u001b[0m\u001b[0mextract\u001b[0m\u001b[0;34m(\u001b[0m\u001b[0mi\u001b[0m\u001b[0;34m,\u001b[0m\u001b[0;34m'/content/drive/MyDrive/Colab Notebooks/ML_final_data/'\u001b[0m\u001b[0;34m+\u001b[0m\u001b[0mfile_name\u001b[0m\u001b[0;34m)\u001b[0m\u001b[0;34m\u001b[0m\u001b[0;34m\u001b[0m\u001b[0m\n",
            "\u001b[0;31mNameError\u001b[0m: name 'idx' is not defined"
          ]
        }
      ]
    },
    {
      "cell_type": "code",
      "source": [
        "# /content/drive/MyDrive/Colab Notebooks/ML_final_data/Anorak\n",
        "total=0\n",
        "for idx,i in enumerate(zip_files):\n",
        "    name = zip_files[idx].split('/')[-1].split('.')[0]\n",
        "    number = len(glob.glob('/content/drive/MyDrive/Colab Notebooks/ML_final_data/'+name+'/*'))\n",
        "    print(number)\n",
        "    total += number\n",
        "print('total-------')\n",
        "print(total)"
      ],
      "metadata": {
        "colab": {
          "base_uri": "https://localhost:8080/"
        },
        "id": "aUf_JgF2Lzar",
        "outputId": "3c3b22f6-da1c-4733-a9b8-3dd70c275a88"
      },
      "execution_count": 5,
      "outputs": [
        {
          "output_type": "stream",
          "name": "stdout",
          "text": [
            "10078\n",
            "386\n",
            "146\n",
            "160\n",
            "7497\n",
            "0\n",
            "309\n",
            "330\n",
            "54\n",
            "77\n",
            "13311\n",
            "527\n",
            "2120\n",
            "17\n",
            "486\n",
            "1669\n",
            "324\n",
            "17\n",
            "49\n",
            "716\n",
            "4048\n",
            "4258\n",
            "0\n",
            "0\n",
            "0\n",
            "0\n",
            "0\n",
            "0\n",
            "0\n",
            "0\n",
            "0\n",
            "0\n",
            "0\n",
            "0\n",
            "0\n",
            "0\n",
            "0\n",
            "0\n",
            "0\n",
            "0\n",
            "0\n",
            "0\n",
            "0\n",
            "0\n",
            "0\n",
            "total-------\n",
            "46579\n"
          ]
        }
      ]
    },
    {
      "cell_type": "code",
      "metadata": {
        "id": "TKBFSQiRfaBu"
      },
      "source": [
        "for idx,i in enumerate(zip_files):\n",
        "    file_name = zip_files[idx].split('/')[-1].split('.')[0]\n",
        "    print(i)\n",
        "    with zipfile.ZipFile(i) as existing_zip:\n",
        "        existing_zip.extractall('/content/drive/MyDrive/Colab Notebooks/ML_final_data/'+file_name)\n",
        "\n",
        "# /content/drive/MyDrive/Colab Notebooks/ML_final_data/Top\n",
        "# '/content/drive/MyDrive/Colab Notebooks/ML_final_data/'+'file_name'"
      ],
      "execution_count": null,
      "outputs": []
    },
    {
      "cell_type": "code",
      "metadata": {
        "id": "Zjg3r8sctn6f"
      },
      "source": [
        "!sudo unzip /content/drive/MyDrive/\"Colab Notebooks\"/img.zip -d /content/drive/MyDrive/\"Colab Notebooks\"/img_final"
      ],
      "execution_count": null,
      "outputs": []
    },
    {
      "cell_type": "code",
      "metadata": {
        "id": "eey0HJl86YC_"
      },
      "source": [
        "# /content/drive/MyDrive/Colab Notebooks/img_final/img\n",
        "import glob\n",
        "file = glob.glob('/content/drive/MyDrive/Colab Notebooks/img_final/img/*')"
      ],
      "execution_count": null,
      "outputs": []
    },
    {
      "cell_type": "code",
      "metadata": {
        "id": "-hKrdsYAd7LY",
        "colab": {
          "base_uri": "https://localhost:8080/"
        },
        "outputId": "9f088c3b-bed7-4e87-9330-73968a140c79"
      },
      "source": [
        "len(file)"
      ],
      "execution_count": null,
      "outputs": [
        {
          "output_type": "execute_result",
          "data": {
            "text/plain": [
              "1580"
            ]
          },
          "metadata": {},
          "execution_count": 4
        }
      ]
    },
    {
      "cell_type": "code",
      "metadata": {
        "id": "tGHbDi-72VkT"
      },
      "source": [
        "import torch\n",
        "from torchvision import transforms\n",
        "from PIL import Image\n",
        "import torch\n",
        "import torchvision\n",
        "import torch.nn as nn\n",
        "import torch.nn.functional as F\n",
        "import torchvision.transforms as transforms\n",
        "from torch.utils.data import Dataset, DataLoader\n",
        "import matplotlib.pyplot as plt\n",
        "import numpy as np\n",
        "import os\n",
        "import shutil\n",
        "import glob"
      ],
      "execution_count": 13,
      "outputs": []
    },
    {
      "cell_type": "code",
      "metadata": {
        "id": "crhbybmR2-6f"
      },
      "source": [
        "def fileList(path_before : str)->list : \n",
        "    file_list = os.listdir(path_before) \n",
        "    category=[]\n",
        "    for file in file_list: \n",
        "        temp_list = file.split(\"_\")  \n",
        "        category.append(temp_list[0]) \n",
        "    print(len(category))\n",
        "    temp_set = set(category) \n",
        "    result = list(temp_set)\n",
        "    return result \n",
        "\n",
        "# C:\\Users\\LG그램\\Desktop\\img1"
      ],
      "execution_count": 14,
      "outputs": []
    },
    {
      "cell_type": "code",
      "metadata": {
        "id": "IKCjxuld3KBr",
        "colab": {
          "base_uri": "https://localhost:8080/"
        },
        "outputId": "a0d11395-87fa-4740-d500-bd787ccf591f"
      },
      "source": [
        "filelist = fileList('/content/drive/MyDrive/Colab Notebooks/ML_final_data/')"
      ],
      "execution_count": 15,
      "outputs": [
        {
          "output_type": "stream",
          "name": "stdout",
          "text": [
            "45\n"
          ]
        }
      ]
    },
    {
      "cell_type": "code",
      "metadata": {
        "id": "VVNXoQqiqUJz"
      },
      "source": [
        "# count=0\n",
        "# for file in filelist:\n",
        "#     ar = glob.glob('/content/drive/MyDrive/Colab Notebooks/img_final/img/*_' + file + '/*')\n",
        "#     for num, a in enumerate(ar):s\n",
        "#         file_modified = os.path.join('/content/drive/MyDrive/Colab Notebooks/ML_data/'+file, file + '_' + str(num)+'.jpg')\n",
        "#         shutil.copy(a, file_modified)\n",
        "#     count+=1\n",
        "#     print(count)\n"
      ],
      "execution_count": null,
      "outputs": []
    },
    {
      "cell_type": "code",
      "metadata": {
        "id": "dP_mgVTu3LLj"
      },
      "source": [
        "file_dict = {string : i for i, string in enumerate(filelist)}"
      ],
      "execution_count": 16,
      "outputs": []
    },
    {
      "cell_type": "code",
      "metadata": {
        "id": "W6OAhnnemdCF"
      },
      "source": [
        "p = transforms.Compose([\n",
        "    transforms.Resize([227,227]),\n",
        "    transforms.CenterCrop(224),\n",
        "    transforms.ToTensor(),\n",
        "    transforms.Normalize(mean=[0.485, 0.456, 0.406], std=[0.229, 0.224, 0.225]),\n",
        "])"
      ],
      "execution_count": 17,
      "outputs": []
    },
    {
      "cell_type": "code",
      "source": [
        "len(glob.glob('/content/drive/MyDrive/Colab Notebooks/ML_final_data/./**/*.jpg')   )"
      ],
      "metadata": {
        "colab": {
          "base_uri": "https://localhost:8080/"
        },
        "id": "DbjQZhC7SKSo",
        "outputId": "0613bd0b-d840-4746-cb43-6b1d89719bb8"
      },
      "execution_count": 18,
      "outputs": [
        {
          "output_type": "execute_result",
          "data": {
            "text/plain": [
              "217071"
            ]
          },
          "metadata": {},
          "execution_count": 18
        }
      ]
    },
    {
      "cell_type": "code",
      "source": [
        "%cd /content/drive/MyDrive/Colab Notebooks"
      ],
      "metadata": {
        "colab": {
          "base_uri": "https://localhost:8080/"
        },
        "id": "pqgwzltXYFBF",
        "outputId": "cfba2742-0f1b-4f16-e4be-5424e3b0ed29"
      },
      "execution_count": 19,
      "outputs": [
        {
          "output_type": "stream",
          "name": "stdout",
          "text": [
            "/content/drive/MyDrive/Colab Notebooks\n"
          ]
        }
      ]
    },
    {
      "cell_type": "code",
      "source": [
        "from torchvision.datasets import ImageFolder \n",
        "# train_dataset = ImageFolder(root='./content/drive/MyDrive/Colab Notebooks/ML_final_data/', transform=p)\n",
        "dataset = ImageFolder(root='./ML_final_data', transform=p)\n",
        "# train_loader = torch.utils.data.DataLoader(train_dataset, batch_size=128, shuffle=True, num_workers=4)\n"
      ],
      "metadata": {
        "id": "xRNHl6nTW5L_"
      },
      "execution_count": 20,
      "outputs": []
    },
    {
      "cell_type": "code",
      "source": [
        "len(dataset.targets)"
      ],
      "metadata": {
        "colab": {
          "base_uri": "https://localhost:8080/"
        },
        "id": "YnYlOYEjW5FO",
        "outputId": "1c49499c-4c82-4bfa-cb80-72302d790bf5"
      },
      "execution_count": 21,
      "outputs": [
        {
          "output_type": "execute_result",
          "data": {
            "text/plain": [
              "217071"
            ]
          },
          "metadata": {},
          "execution_count": 21
        }
      ]
    },
    {
      "cell_type": "code",
      "source": [
        "from sklearn.model_selection import train_test_split\n",
        "train_indices, val_indices = train_test_split(list(range(len(dataset.targets))), test_size=0.2, stratify=dataset.targets)\n",
        "train_dataset = torch.utils.data.Subset(dataset, train_indices)\n",
        "val_dataset = torch.utils.data.Subset(dataset, val_indices)"
      ],
      "metadata": {
        "id": "H37OhejZW5Bu"
      },
      "execution_count": 22,
      "outputs": []
    },
    {
      "cell_type": "code",
      "source": [
        "train_data_loader = torch.utils.data.DataLoader(train_dataset, batch_size=256, shuffle=True, num_workers=2)\n",
        "val_data_loader = torch.utils.data.DataLoader(val_dataset, batch_size=256, shuffle=True, num_workers=2)"
      ],
      "metadata": {
        "id": "6frl_3KYW4-D"
      },
      "execution_count": 23,
      "outputs": []
    },
    {
      "cell_type": "code",
      "source": [
        "torch.save(train_data_loader, './train_data_loader.pth')"
      ],
      "metadata": {
        "id": "yRG4n2tEW46K"
      },
      "execution_count": 24,
      "outputs": []
    },
    {
      "cell_type": "code",
      "source": [
        "torch.save(val_data_loader, 'val_data_loader.pth')"
      ],
      "metadata": {
        "id": "W_cb7ohPW43E"
      },
      "execution_count": 25,
      "outputs": []
    },
    {
      "cell_type": "code",
      "source": [
        "!pwd"
      ],
      "metadata": {
        "colab": {
          "base_uri": "https://localhost:8080/"
        },
        "id": "bEh0ex19W4vE",
        "outputId": "d56b5ff8-4229-4606-9d17-3a1b1a7a14f9"
      },
      "execution_count": 26,
      "outputs": [
        {
          "output_type": "stream",
          "name": "stdout",
          "text": [
            "/content/drive/My Drive/Colab Notebooks\n"
          ]
        }
      ]
    },
    {
      "cell_type": "code",
      "source": [
        ""
      ],
      "metadata": {
        "id": "KJbWjLqmW4jg"
      },
      "execution_count": null,
      "outputs": []
    },
    {
      "cell_type": "code",
      "metadata": {
        "id": "02CUEk27nfAM"
      },
      "source": [
        "class ClothDataset(Dataset):\n",
        "    def __init__(self,file_dict, transform=None):\n",
        "#         self.all_data = sorted(glob.glob(os.path.join(data_dir, mode, '*', '*')))\n",
        "        self.file_dict = file_dict\n",
        "        self.all_data = glob.glob('/content/drive/MyDrive/Colab Notebooks/ML_final_data/./**/*.jpg') \n",
        "        self.transform = transform\n",
        "    \n",
        "    def __getitem__(self, index):\n",
        "\n",
        "        data_path = self.all_data[index]    \n",
        "        img = pil_loader(data_path)         \n",
        "        if self.transform is not None:\n",
        "            img = self.transform(img)\n",
        "        \n",
        "        label_name = os.path.basename(data_path).split('_')[0]\n",
        "        label = self.file_dict[label_name]\n",
        "        \n",
        "        return img, label\n",
        "    \n",
        "    def __len__(self):\n",
        "        # length = 289219\n",
        "        length = len(self.all_data)\n",
        "        return length"
      ],
      "execution_count": null,
      "outputs": []
    },
    {
      "cell_type": "code",
      "metadata": {
        "id": "0zoK4nvXoLOU"
      },
      "source": [
        "def pil_loader(path):\n",
        "    # open path as file to avoid ResourceWarning (https://github.com/python-pillow/Pillow/issues/835)\n",
        "    with open(path, 'rb') as f:\n",
        "        img = Image.open(f)\n",
        "        return img.convert('RGB')"
      ],
      "execution_count": null,
      "outputs": []
    },
    {
      "cell_type": "code",
      "metadata": {
        "id": "jxZzoAqDnjST"
      },
      "source": [
        "train_data = ClothDataset(file_dict, transform=p)"
      ],
      "execution_count": null,
      "outputs": []
    },
    {
      "cell_type": "code",
      "metadata": {
        "id": "jRlfwiXznqsT"
      },
      "source": [
        "train_loader = DataLoader(train_data, batch_size=128, shuffle=True, drop_last=True)"
      ],
      "execution_count": null,
      "outputs": []
    },
    {
      "cell_type": "code",
      "source": [
        "train_loader.batch_sampler"
      ],
      "metadata": {
        "colab": {
          "base_uri": "https://localhost:8080/"
        },
        "id": "BiB3zXWtS_h-",
        "outputId": "6266e74a-5eba-47f4-cf91-d025aee39cb1"
      },
      "execution_count": null,
      "outputs": [
        {
          "output_type": "execute_result",
          "data": {
            "text/plain": [
              "<torch.utils.data.sampler.BatchSampler at 0x7f3b5a521a90>"
            ]
          },
          "metadata": {},
          "execution_count": 51
        }
      ]
    },
    {
      "cell_type": "code",
      "metadata": {
        "id": "ur10Ukk_tFjX"
      },
      "source": [
        "import torchvision.models as models\n",
        "\n",
        "model = models.alexnet(pretrained=True)"
      ],
      "execution_count": 59,
      "outputs": []
    },
    {
      "cell_type": "code",
      "metadata": {
        "colab": {
          "base_uri": "https://localhost:8080/"
        },
        "id": "Qdsvjx7JtJCL",
        "outputId": "a6c125ed-38a9-4cac-92e0-7fae2a70f2ec"
      },
      "source": [
        "model"
      ],
      "execution_count": 60,
      "outputs": [
        {
          "output_type": "execute_result",
          "data": {
            "text/plain": [
              "AlexNet(\n",
              "  (features): Sequential(\n",
              "    (0): Conv2d(3, 64, kernel_size=(11, 11), stride=(4, 4), padding=(2, 2))\n",
              "    (1): ReLU(inplace=True)\n",
              "    (2): MaxPool2d(kernel_size=3, stride=2, padding=0, dilation=1, ceil_mode=False)\n",
              "    (3): Conv2d(64, 192, kernel_size=(5, 5), stride=(1, 1), padding=(2, 2))\n",
              "    (4): ReLU(inplace=True)\n",
              "    (5): MaxPool2d(kernel_size=3, stride=2, padding=0, dilation=1, ceil_mode=False)\n",
              "    (6): Conv2d(192, 384, kernel_size=(3, 3), stride=(1, 1), padding=(1, 1))\n",
              "    (7): ReLU(inplace=True)\n",
              "    (8): Conv2d(384, 256, kernel_size=(3, 3), stride=(1, 1), padding=(1, 1))\n",
              "    (9): ReLU(inplace=True)\n",
              "    (10): Conv2d(256, 256, kernel_size=(3, 3), stride=(1, 1), padding=(1, 1))\n",
              "    (11): ReLU(inplace=True)\n",
              "    (12): MaxPool2d(kernel_size=3, stride=2, padding=0, dilation=1, ceil_mode=False)\n",
              "  )\n",
              "  (avgpool): AdaptiveAvgPool2d(output_size=(6, 6))\n",
              "  (classifier): Sequential(\n",
              "    (0): Dropout(p=0.5, inplace=False)\n",
              "    (1): Linear(in_features=9216, out_features=4096, bias=True)\n",
              "    (2): ReLU(inplace=True)\n",
              "    (3): Dropout(p=0.5, inplace=False)\n",
              "    (4): Linear(in_features=4096, out_features=4096, bias=True)\n",
              "    (5): ReLU(inplace=True)\n",
              "    (6): Linear(in_features=4096, out_features=1000, bias=True)\n",
              "  )\n",
              ")"
            ]
          },
          "metadata": {},
          "execution_count": 60
        }
      ]
    },
    {
      "cell_type": "code",
      "metadata": {
        "id": "xXrcXK03tJ6M"
      },
      "source": [
        "# model.classifier[6] = nn.Linear(in_features=4096, out_features=45, bias=True)\n",
        "# model.classifier[4] = nn.Linear(in_features=4096, out_features=45, bias=True)"
      ],
      "execution_count": 61,
      "outputs": []
    },
    {
      "cell_type": "code",
      "metadata": {
        "id": "EkdPzRfCtQLD",
        "colab": {
          "base_uri": "https://localhost:8080/"
        },
        "outputId": "488d6603-213b-41d0-c623-1a48af8ad2b4"
      },
      "source": [
        "for i,param in model.named_parameters():\n",
        "    print(i)\n",
        "    # param.requires_grad = False"
      ],
      "execution_count": 83,
      "outputs": [
        {
          "output_type": "stream",
          "name": "stdout",
          "text": [
            "features.0.weight\n",
            "features.0.bias\n",
            "features.3.weight\n",
            "features.3.bias\n",
            "features.6.weight\n",
            "features.6.bias\n",
            "features.8.weight\n",
            "features.8.bias\n",
            "features.10.weight\n",
            "features.10.bias\n",
            "classifier.1.weight\n",
            "classifier.1.bias\n",
            "classifier.4.weight\n",
            "classifier.4.bias\n",
            "classifier.6.weight\n",
            "classifier.6.bias\n"
          ]
        }
      ]
    },
    {
      "cell_type": "code",
      "metadata": {
        "id": "YBPUJF5ftR5Z"
      },
      "source": [
        "for name, param in model.named_parameters():\n",
        "#     print(name)\n",
        "    if name in ['classifier.4.weight', 'classifier.4.bias']:\n",
        "        param.requires_grad = True"
      ],
      "execution_count": 84,
      "outputs": []
    },
    {
      "cell_type": "code",
      "metadata": {
        "colab": {
          "base_uri": "https://localhost:8080/"
        },
        "id": "Biv-x_i8tUqB",
        "outputId": "70d89cc6-309a-4c2b-e11a-e0f840d021c9"
      },
      "source": [
        "for name, param in model.named_parameters():\n",
        "    if param.requires_grad == True:\n",
        "        print(name)"
      ],
      "execution_count": 85,
      "outputs": [
        {
          "output_type": "stream",
          "name": "stdout",
          "text": [
            "classifier.4.weight\n",
            "classifier.4.bias\n"
          ]
        }
      ]
    },
    {
      "cell_type": "code",
      "metadata": {
        "id": "w21aXo0mtVfm"
      },
      "source": [
        "import torch.optim as optim\n",
        "import torch.nn as nn\n",
        "\n",
        "#Loss\n",
        "criterion = nn.CrossEntropyLoss()\n",
        "\n",
        "#Optimizer(SGD)\n",
        "optimizer = optim.Adam(model.parameters(), lr=0.001)"
      ],
      "execution_count": 86,
      "outputs": []
    },
    {
      "cell_type": "code",
      "metadata": {
        "colab": {
          "base_uri": "https://localhost:8080/"
        },
        "id": "EbtYExWUtaF5",
        "outputId": "4a944e7f-ee78-46b1-f32f-bfe576251873"
      },
      "source": [
        "# device = torch.device(\"cuda\" if torch.cuda.is_available() else \"cpu\")\n",
        "# device"
      ],
      "execution_count": 66,
      "outputs": [
        {
          "output_type": "execute_result",
          "data": {
            "text/plain": [
              "device(type='cuda')"
            ]
          },
          "metadata": {},
          "execution_count": 66
        }
      ]
    },
    {
      "cell_type": "code",
      "metadata": {
        "colab": {
          "base_uri": "https://localhost:8080/"
        },
        "id": "0plTRrgQtxFf",
        "outputId": "dc30433c-5114-424e-fa79-0954120e19a6"
      },
      "source": [
        "model.to(device)"
      ],
      "execution_count": 87,
      "outputs": [
        {
          "output_type": "execute_result",
          "data": {
            "text/plain": [
              "AlexNet(\n",
              "  (features): Sequential(\n",
              "    (0): Conv2d(3, 64, kernel_size=(11, 11), stride=(4, 4), padding=(2, 2))\n",
              "    (1): ReLU(inplace=True)\n",
              "    (2): MaxPool2d(kernel_size=3, stride=2, padding=0, dilation=1, ceil_mode=False)\n",
              "    (3): Conv2d(64, 192, kernel_size=(5, 5), stride=(1, 1), padding=(2, 2))\n",
              "    (4): ReLU(inplace=True)\n",
              "    (5): MaxPool2d(kernel_size=3, stride=2, padding=0, dilation=1, ceil_mode=False)\n",
              "    (6): Conv2d(192, 384, kernel_size=(3, 3), stride=(1, 1), padding=(1, 1))\n",
              "    (7): ReLU(inplace=True)\n",
              "    (8): Conv2d(384, 256, kernel_size=(3, 3), stride=(1, 1), padding=(1, 1))\n",
              "    (9): ReLU(inplace=True)\n",
              "    (10): Conv2d(256, 256, kernel_size=(3, 3), stride=(1, 1), padding=(1, 1))\n",
              "    (11): ReLU(inplace=True)\n",
              "    (12): MaxPool2d(kernel_size=3, stride=2, padding=0, dilation=1, ceil_mode=False)\n",
              "  )\n",
              "  (avgpool): AdaptiveAvgPool2d(output_size=(6, 6))\n",
              "  (classifier): Sequential(\n",
              "    (0): Dropout(p=0.5, inplace=False)\n",
              "    (1): Linear(in_features=9216, out_features=4096, bias=True)\n",
              "    (2): ReLU(inplace=True)\n",
              "    (3): Dropout(p=0.5, inplace=False)\n",
              "    (4): Linear(in_features=4096, out_features=4096, bias=True)\n",
              "    (5): ReLU(inplace=True)\n",
              "    (6): Linear(in_features=4096, out_features=45, bias=True)\n",
              "  )\n",
              ")"
            ]
          },
          "metadata": {},
          "execution_count": 87
        }
      ]
    },
    {
      "cell_type": "code",
      "metadata": {
        "colab": {
          "base_uri": "https://localhost:8080/"
        },
        "id": "Rjis0KCTtWlp",
        "outputId": "d4bfe7e5-3602-4591-c6c7-51805e3d908a"
      },
      "source": [
        "loss_list = []\n",
        "for epoch in range(3):  # loop over the dataset multiple times\n",
        "    running_loss = 0.0\n",
        "    for i, data in enumerate(train_data_loader, 0):\n",
        "        # get the inputs; data is a list of [inputs, labels]\n",
        "        inputs, labels = data[0].to(device), data[1].to(device)\n",
        "\n",
        "        # zero the parameter gradients\n",
        "        optimizer.zero_grad()\n",
        "\n",
        "        # forward + backward + optimize\n",
        "        output = model(inputs)\n",
        "        loss = criterion(output, labels)\n",
        "#         loss = F.cross_entropy(output, labels)\n",
        "        loss.backward()\n",
        "        optimizer.step()\n",
        "        print(loss.item())\n",
        "        loss_list.append(loss.item())\n",
        "    torch.save(model, f'./model_unfreeze_second_layer{epoch}.pt')\n",
        "    print(f'------------ {epoch} finished!!! ------------')\n",
        "print('Finished Training of AlexNet')"
      ],
      "execution_count": null,
      "outputs": [
        {
          "output_type": "stream",
          "name": "stdout",
          "text": [
            "1.8333404064178467\n",
            "3.075810670852661\n",
            "3.3290138244628906\n",
            "4.187418460845947\n",
            "4.005760669708252\n",
            "3.3191027641296387\n",
            "2.3720808029174805\n",
            "3.06538724899292\n",
            "2.8409957885742188\n",
            "2.6862025260925293\n",
            "2.3195748329162598\n",
            "2.495357036590576\n",
            "2.3479104042053223\n",
            "2.466085195541382\n",
            "2.3311550617218018\n",
            "2.286912202835083\n",
            "2.117617130279541\n",
            "2.3368725776672363\n",
            "2.3554866313934326\n",
            "2.266404867172241\n",
            "2.1588027477264404\n",
            "2.083627700805664\n",
            "2.258147954940796\n",
            "2.2382054328918457\n",
            "2.316326379776001\n",
            "2.192318916320801\n",
            "2.175664186477661\n",
            "2.194333553314209\n",
            "2.277658462524414\n",
            "1.9594112634658813\n",
            "2.2226524353027344\n",
            "2.014256238937378\n",
            "2.044070243835449\n",
            "2.0501818656921387\n",
            "2.4177677631378174\n",
            "2.1907150745391846\n",
            "2.0747475624084473\n",
            "2.1886250972747803\n",
            "2.0424792766571045\n",
            "2.0643608570098877\n",
            "2.12837553024292\n",
            "2.0110034942626953\n",
            "1.97151780128479\n",
            "2.110452175140381\n",
            "2.1970527172088623\n",
            "2.055318593978882\n",
            "2.0393221378326416\n",
            "2.0529580116271973\n",
            "1.9658918380737305\n",
            "2.015474796295166\n",
            "2.0781307220458984\n",
            "2.2073464393615723\n",
            "2.1608102321624756\n",
            "2.2390549182891846\n",
            "2.0721054077148438\n",
            "1.948535442352295\n",
            "1.8955327272415161\n",
            "2.219562530517578\n",
            "2.0336976051330566\n",
            "2.1897757053375244\n",
            "1.9802335500717163\n",
            "2.037759304046631\n",
            "2.1562061309814453\n",
            "2.106475591659546\n",
            "1.9856806993484497\n",
            "1.923074722290039\n",
            "1.953294038772583\n",
            "2.180310010910034\n",
            "1.9851624965667725\n",
            "2.0031495094299316\n",
            "2.145341634750366\n",
            "2.117077350616455\n",
            "2.0259337425231934\n",
            "1.963465929031372\n",
            "2.1136369705200195\n",
            "2.061203956604004\n",
            "2.092520236968994\n",
            "1.9791604280471802\n",
            "2.116750478744507\n",
            "2.1377358436584473\n",
            "1.9438271522521973\n",
            "1.8430876731872559\n",
            "1.9402904510498047\n",
            "1.9179353713989258\n",
            "2.144804000854492\n",
            "2.0691537857055664\n",
            "2.058506727218628\n",
            "2.192993640899658\n",
            "1.9579561948776245\n",
            "2.135540246963501\n",
            "1.8521054983139038\n",
            "1.87393319606781\n",
            "1.8636054992675781\n",
            "2.0053186416625977\n",
            "2.015360116958618\n",
            "2.1305830478668213\n",
            "1.9956655502319336\n",
            "1.9143520593643188\n",
            "2.0223000049591064\n",
            "2.0436668395996094\n",
            "2.0459141731262207\n",
            "1.8837754726409912\n",
            "1.8380719423294067\n",
            "2.1873037815093994\n",
            "2.2363147735595703\n",
            "2.061069965362549\n",
            "2.201632022857666\n",
            "2.0484633445739746\n",
            "2.023625373840332\n",
            "1.9189155101776123\n",
            "2.0525002479553223\n",
            "2.216958999633789\n",
            "1.9166407585144043\n",
            "1.8957847356796265\n",
            "2.2194530963897705\n",
            "1.9923462867736816\n",
            "1.8853180408477783\n",
            "2.002032995223999\n",
            "1.9613618850708008\n",
            "2.085301637649536\n",
            "2.1266868114471436\n",
            "2.0353636741638184\n",
            "2.049577236175537\n",
            "1.9124670028686523\n",
            "1.8694119453430176\n",
            "2.0935163497924805\n",
            "1.866665244102478\n",
            "1.9351396560668945\n",
            "2.043872833251953\n",
            "1.997009038925171\n",
            "2.0890963077545166\n",
            "1.9044201374053955\n",
            "1.9915597438812256\n",
            "2.026398181915283\n",
            "1.854825735092163\n",
            "1.6940486431121826\n",
            "2.1413698196411133\n",
            "1.9347565174102783\n",
            "1.8152213096618652\n",
            "2.1636335849761963\n",
            "1.9208154678344727\n",
            "2.1066761016845703\n",
            "1.9714797735214233\n",
            "1.8782504796981812\n",
            "2.2038137912750244\n",
            "2.102555513381958\n",
            "1.9870730638504028\n",
            "2.0938878059387207\n",
            "1.9213898181915283\n",
            "2.111128807067871\n",
            "1.9522567987442017\n",
            "2.063934803009033\n",
            "1.9460362195968628\n",
            "2.0510494709014893\n",
            "2.0950241088867188\n",
            "1.8714573383331299\n",
            "1.8935712575912476\n",
            "2.0436654090881348\n",
            "1.782546877861023\n",
            "2.050955295562744\n",
            "1.863992691040039\n",
            "1.908915638923645\n",
            "1.813247561454773\n",
            "1.9552104473114014\n",
            "1.8289971351623535\n",
            "1.8149843215942383\n",
            "2.0321788787841797\n",
            "2.150204658508301\n",
            "1.920385479927063\n",
            "1.9784917831420898\n",
            "1.8269864320755005\n",
            "1.9037244319915771\n",
            "1.8588789701461792\n",
            "1.8673644065856934\n",
            "1.798647165298462\n",
            "2.0059688091278076\n",
            "1.9417595863342285\n",
            "1.8592419624328613\n",
            "2.108848810195923\n",
            "2.070326566696167\n",
            "1.8613871335983276\n",
            "1.9996672868728638\n",
            "2.0929012298583984\n",
            "1.9203386306762695\n",
            "1.919293761253357\n",
            "1.9846447706222534\n",
            "1.9235789775848389\n",
            "2.123098611831665\n",
            "1.8372799158096313\n",
            "1.969732642173767\n",
            "2.1310856342315674\n",
            "2.1302826404571533\n",
            "2.0775344371795654\n",
            "2.0403599739074707\n",
            "2.0080366134643555\n",
            "2.022334575653076\n",
            "1.9449856281280518\n",
            "1.9627485275268555\n",
            "2.037226676940918\n",
            "1.8704049587249756\n",
            "1.9681881666183472\n",
            "2.018723964691162\n",
            "2.026200294494629\n",
            "1.9376786947250366\n",
            "1.9132047891616821\n",
            "1.923027515411377\n",
            "2.1393346786499023\n",
            "2.094787836074829\n",
            "2.001596689224243\n",
            "1.8917417526245117\n",
            "2.066563844680786\n",
            "1.9502615928649902\n",
            "2.0810794830322266\n",
            "1.9775593280792236\n",
            "1.888776183128357\n",
            "2.0712344646453857\n",
            "1.9979896545410156\n",
            "1.9987468719482422\n",
            "2.072169542312622\n",
            "1.9487879276275635\n",
            "1.838091254234314\n",
            "1.9898245334625244\n",
            "2.0629947185516357\n",
            "1.9288305044174194\n",
            "1.9193179607391357\n",
            "2.0277905464172363\n",
            "2.0544869899749756\n",
            "2.0969324111938477\n",
            "1.887965202331543\n",
            "1.829635500907898\n",
            "1.8648101091384888\n",
            "1.9403183460235596\n",
            "1.9864407777786255\n",
            "2.0100507736206055\n",
            "2.1157052516937256\n",
            "1.844043493270874\n",
            "1.9641823768615723\n",
            "2.0257585048675537\n",
            "2.0636231899261475\n",
            "1.908252239227295\n",
            "1.9431763887405396\n",
            "2.024707555770874\n",
            "1.8905181884765625\n",
            "2.0331408977508545\n",
            "2.0437352657318115\n",
            "1.9726775884628296\n",
            "2.021571397781372\n",
            "2.0075273513793945\n",
            "1.9317550659179688\n",
            "2.043513298034668\n",
            "2.0725936889648438\n",
            "1.80753755569458\n",
            "1.9313249588012695\n",
            "1.8656692504882812\n",
            "2.0500664710998535\n",
            "1.9858018159866333\n",
            "1.809421420097351\n",
            "1.8337098360061646\n",
            "1.854164719581604\n",
            "2.0899064540863037\n",
            "1.9090498685836792\n",
            "2.0504026412963867\n",
            "2.0512802600860596\n",
            "1.8953745365142822\n",
            "1.807158350944519\n",
            "1.9464495182037354\n",
            "2.032473087310791\n",
            "2.1305086612701416\n",
            "1.8632965087890625\n",
            "1.8943980932235718\n",
            "1.8394333124160767\n",
            "1.8197073936462402\n",
            "1.8137831687927246\n",
            "1.819095253944397\n",
            "1.8776763677597046\n",
            "1.9312763214111328\n",
            "1.8916810750961304\n",
            "2.0713515281677246\n",
            "1.9759405851364136\n",
            "1.759789228439331\n",
            "1.8712596893310547\n",
            "1.7614246606826782\n",
            "2.010301113128662\n",
            "2.2821788787841797\n",
            "1.989127516746521\n",
            "2.0336105823516846\n",
            "1.8950523138046265\n",
            "2.051740884780884\n",
            "2.0963265895843506\n",
            "2.0268142223358154\n",
            "1.952346920967102\n",
            "2.096433401107788\n",
            "2.100735902786255\n",
            "1.9826477766036987\n",
            "1.8595722913742065\n",
            "2.0627949237823486\n",
            "1.9162524938583374\n",
            "1.8350539207458496\n",
            "2.140395402908325\n",
            "2.170361280441284\n",
            "1.9375479221343994\n",
            "1.96311354637146\n",
            "1.8909488916397095\n",
            "1.889176368713379\n",
            "2.2093615531921387\n",
            "2.0032260417938232\n",
            "2.056891918182373\n",
            "2.107257843017578\n",
            "1.9367130994796753\n",
            "1.9132205247879028\n",
            "1.9985746145248413\n",
            "1.9034346342086792\n",
            "1.92025887966156\n",
            "1.8647557497024536\n",
            "1.8673397302627563\n",
            "1.8355320692062378\n",
            "1.9668270349502563\n",
            "1.9448095560073853\n",
            "2.046562433242798\n",
            "1.923485517501831\n",
            "2.0300474166870117\n",
            "2.0491714477539062\n",
            "1.8721015453338623\n",
            "1.7860994338989258\n"
          ]
        }
      ]
    },
    {
      "cell_type": "code",
      "source": [
        "import matplotlib.pyplot as plt\n",
        "plt.plot(loss_list)"
      ],
      "metadata": {
        "colab": {
          "base_uri": "https://localhost:8080/",
          "height": 283
        },
        "id": "j_i4XAbWTtSg",
        "outputId": "e6d12e55-8cd9-4f5f-f274-ca94594ca916"
      },
      "execution_count": 74,
      "outputs": [
        {
          "output_type": "execute_result",
          "data": {
            "text/plain": [
              "[<matplotlib.lines.Line2D at 0x7ffa63448bd0>]"
            ]
          },
          "metadata": {},
          "execution_count": 74
        },
        {
          "output_type": "display_data",
          "data": {
            "image/png": "[encoded data removed]",
            "text/plain": [
              "<Figure size 432x288 with 1 Axes>"
            ]
          },
          "metadata": {
            "needs_background": "light"
          }
        }
      ]
    },
    {
      "cell_type": "code",
      "source": [
        "len(train_data_loader)"
      ],
      "metadata": {
        "colab": {
          "base_uri": "https://localhost:8080/"
        },
        "id": "cWrBV2ypfkdg",
        "outputId": "89a36765-6dc1-4f6d-fab8-14eb64a86edf"
      },
      "execution_count": 75,
      "outputs": [
        {
          "output_type": "execute_result",
          "data": {
            "text/plain": [
              "679"
            ]
          },
          "metadata": {},
          "execution_count": 75
        }
      ]
    },
    {
      "cell_type": "code",
      "metadata": {
        "id": "IOE4SCqCt6dR"
      },
      "source": [
        "loss_only_unfreeze_last = loss_list"
      ],
      "execution_count": 77,
      "outputs": []
    },
    {
      "cell_type": "code",
      "metadata": {
        "id": "quWqoBM1swn8",
        "colab": {
          "base_uri": "https://localhost:8080/",
          "height": 283
        },
        "outputId": "5d2cf456-8e20-45db-d83e-982555bf64f5"
      },
      "source": [
        "plt.plot(loss_only_unfreeze_last)"
      ],
      "execution_count": 79,
      "outputs": [
        {
          "output_type": "execute_result",
          "data": {
            "text/plain": [
              "[<matplotlib.lines.Line2D at 0x7ffa6bc9c2d0>]"
            ]
          },
          "metadata": {},
          "execution_count": 79
        },
        {
          "output_type": "display_data",
          "data": {
            "image/png": "[encoded data removed]",
            "text/plain": [
              "<Figure size 432x288 with 1 Axes>"
            ]
          },
          "metadata": {
            "needs_background": "light"
          }
        }
      ]
    },
    {
      "cell_type": "code",
      "metadata": {
        "id": "paW055yVsw9s"
      },
      "source": [
        "a = [float(i) for i in a]"
      ],
      "execution_count": null,
      "outputs": []
    },
    {
      "cell_type": "code",
      "metadata": {
        "id": "ghiY80avs991",
        "colab": {
          "base_uri": "https://localhost:8080/"
        },
        "outputId": "234b99a9-47ea-4515-acca-b28369cfb8ae"
      },
      "source": [
        "a"
      ],
      "execution_count": null,
      "outputs": [
        {
          "output_type": "execute_result",
          "data": {
            "text/plain": [
              "[3.2359580993652344,\n",
              " 3.3376243114471436,\n",
              " 3.267920970916748,\n",
              " 3.278489589691162,\n",
              " 3.2528231143951416,\n",
              " 3.263564109802246,\n",
              " 3.2709145545959473,\n",
              " 3.2629504203796387,\n",
              " 3.2843122482299805,\n",
              " 3.2236995697021484,\n",
              " 3.278369665145874,\n",
              " 3.2517802715301514,\n",
              " 3.282128095626831,\n",
              " 3.24078631401062,\n",
              " 3.244344711303711,\n",
              " 3.2323431968688965,\n",
              " 3.280003070831299,\n",
              " 3.300143241882324,\n",
              " 3.254660129547119,\n",
              " 3.272507667541504,\n",
              " 3.2583322525024414,\n",
              " 3.1898674964904785,\n",
              " 3.260831594467163,\n",
              " 3.2384965419769287,\n",
              " 3.2636923789978027,\n",
              " 3.2841036319732666,\n",
              " 3.268265724182129,\n",
              " 3.2411975860595703,\n",
              " 3.2969861030578613,\n",
              " 3.2951276302337646,\n",
              " 3.2827296257019043,\n",
              " 3.2254345417022705,\n",
              " 3.221998929977417,\n",
              " 3.2760426998138428,\n",
              " 3.2875969409942627,\n",
              " 3.282121181488037,\n",
              " 3.24212384223938,\n",
              " 3.2991654872894287,\n",
              " 3.3015544414520264,\n",
              " 3.299743413925171,\n",
              " 3.278094530105591,\n",
              " 3.2403531074523926,\n",
              " 3.251309394836426,\n",
              " 3.29449200630188,\n",
              " 3.284925937652588,\n",
              " 3.284383535385132,\n",
              " 3.2260475158691406,\n",
              " 3.274590492248535,\n",
              " 3.2910358905792236,\n",
              " 3.3148856163024902,\n",
              " 3.2470996379852295,\n",
              " 3.2421014308929443,\n",
              " 3.2431418895721436,\n",
              " 3.3099234104156494,\n",
              " 3.2277698516845703,\n",
              " 3.2687129974365234,\n",
              " 3.2900593280792236,\n",
              " 3.2688026428222656,\n",
              " 3.2941250801086426,\n",
              " 3.2439346313476562,\n",
              " 3.244994878768921,\n",
              " 3.294705390930176,\n",
              " 3.2820851802825928,\n",
              " 3.309250593185425,\n",
              " 3.2266945838928223,\n",
              " 3.2234280109405518,\n",
              " 3.2049381732940674]"
            ]
          },
          "metadata": {},
          "execution_count": 52
        }
      ]
    },
    {
      "cell_type": "code",
      "metadata": {
        "colab": {
          "base_uri": "https://localhost:8080/",
          "height": 283
        },
        "id": "gjWqGX4TtCA8",
        "outputId": "a8be07d0-c685-41c9-d893-4f19ffc67774"
      },
      "source": [
        "plt.plot(a)"
      ],
      "execution_count": null,
      "outputs": [
        {
          "output_type": "execute_result",
          "data": {
            "text/plain": [
              "[<matplotlib.lines.Line2D at 0x7f9d2c070e50>]"
            ]
          },
          "metadata": {},
          "execution_count": 53
        },
        {
          "output_type": "display_data",
          "data": {
            "image/png": "[encoded data removed]",
            "text/plain": [
              "<Figure size 432x288 with 1 Axes>"
            ]
          },
          "metadata": {
            "needs_background": "light"
          }
        }
      ]
    },
    {
      "cell_type": "markdown",
      "metadata": {
        "id": "rDOjwnHXtKND"
      },
      "source": [
        "model = torch.hub.load('googlenet', pretrained=True).to(device)"
      ]
    },
    {
      "cell_type": "code",
      "metadata": {
        "id": "fpkoTgjHyGYd"
      },
      "source": [
        "import torchvision.models as models\n",
        "\n",
        "# model = models.alexnet(pretrained=True)"
      ],
      "execution_count": null,
      "outputs": []
    },
    {
      "cell_type": "code",
      "metadata": {
        "id": "_1aRP3hgyLd8",
        "outputId": "ac0a2657-a0b1-4d52-cf13-df33eff4d738",
        "colab": {
          "base_uri": "https://localhost:8080/",
          "height": 67,
          "referenced_widgets": [
            "8c23e931c03c4e699bf680479a2aab55",
            "080b0c02f79e4fbda57472ed110936d8",
            "14a572fda448432aa5dca5c359845109",
            "7733e1194f304f42ab2aee91a9044eb2",
            "c5a996ae45a8434082c2a1d853f77c77",
            "4eae912be624428ead1f645eeac8d289",
            "6cf5d44047dd4890a34ce92736e2d698",
            "5a5356d046084080b4f8b1c8511f70ed",
            "1d484d54476347888d469cc061e9fd8b",
            "b833b999ea6343f3ad92fd8bd2fa775e",
            "274f356f8f234b9ba17076c45399b6b1"
          ]
        }
      },
      "source": [
        "model = models.googlenet(pretrained=True) "
      ],
      "execution_count": null,
      "outputs": [
        {
          "output_type": "stream",
          "name": "stderr",
          "text": [
            "Downloading: \"https://download.pytorch.org/models/googlenet-1378be20.pth\" to /root/.cache/torch/hub/checkpoints/googlenet-1378be20.pth\n"
          ]
        },
        {
          "output_type": "display_data",
          "data": {
            "application/vnd.jupyter.widget-view+json": {
              "model_id": "8c23e931c03c4e699bf680479a2aab55",
              "version_minor": 0,
              "version_major": 2
            },
            "text/plain": [
              "  0%|          | 0.00/49.7M [00:00<?, ?B/s]"
            ]
          },
          "metadata": {}
        }
      ]
    },
    {
      "cell_type": "code",
      "metadata": {
        "id": "vL6VcefoyWBk"
      },
      "source": [
        "model.fc = nn.Linear(in_features=1024, out_features=22, bias=True)"
      ],
      "execution_count": null,
      "outputs": []
    },
    {
      "cell_type": "markdown",
      "metadata": {
        "id": "JOTA4hcoS8ez"
      },
      "source": [
        ""
      ]
    },
    {
      "cell_type": "code",
      "metadata": {
        "id": "GLALyzNm1WbV"
      },
      "source": [
        "for param in model.parameters():\n",
        "#     print(param)\n",
        "    param.requires_grad = False"
      ],
      "execution_count": null,
      "outputs": []
    },
    {
      "cell_type": "code",
      "metadata": {
        "id": "9hIUAGHu1ZAc"
      },
      "source": [
        "for name, param in model.named_parameters():\n",
        "#     print(name)\n",
        "    if name in ['fc.weight','fc.bias']:\n",
        "        param.requires_grad = True"
      ],
      "execution_count": null,
      "outputs": []
    },
    {
      "cell_type": "code",
      "metadata": {
        "colab": {
          "base_uri": "https://localhost:8080/"
        },
        "id": "P2hCuZrl1i-0",
        "outputId": "c8012206-268f-40e2-89f3-23139684b9ad"
      },
      "source": [
        "for name, param in model.named_parameters():\n",
        "    if param.requires_grad == True:\n",
        "        print(name)"
      ],
      "execution_count": null,
      "outputs": [
        {
          "output_type": "stream",
          "name": "stdout",
          "text": [
            "fc.weight\n",
            "fc.bias\n"
          ]
        }
      ]
    },
    {
      "cell_type": "code",
      "metadata": {
        "colab": {
          "base_uri": "https://localhost:8080/"
        },
        "id": "iyQrwxr0zpvw",
        "outputId": "1275d85a-3cac-49db-a146-59bb514e8fdb"
      },
      "source": [
        "model"
      ],
      "execution_count": null,
      "outputs": [
        {
          "output_type": "execute_result",
          "data": {
            "text/plain": [
              "GoogLeNet(\n",
              "  (conv1): BasicConv2d(\n",
              "    (conv): Conv2d(3, 64, kernel_size=(7, 7), stride=(2, 2), padding=(3, 3), bias=False)\n",
              "    (bn): BatchNorm2d(64, eps=0.001, momentum=0.1, affine=True, track_running_stats=True)\n",
              "  )\n",
              "  (maxpool1): MaxPool2d(kernel_size=3, stride=2, padding=0, dilation=1, ceil_mode=True)\n",
              "  (conv2): BasicConv2d(\n",
              "    (conv): Conv2d(64, 64, kernel_size=(1, 1), stride=(1, 1), bias=False)\n",
              "    (bn): BatchNorm2d(64, eps=0.001, momentum=0.1, affine=True, track_running_stats=True)\n",
              "  )\n",
              "  (conv3): BasicConv2d(\n",
              "    (conv): Conv2d(64, 192, kernel_size=(3, 3), stride=(1, 1), padding=(1, 1), bias=False)\n",
              "    (bn): BatchNorm2d(192, eps=0.001, momentum=0.1, affine=True, track_running_stats=True)\n",
              "  )\n",
              "  (maxpool2): MaxPool2d(kernel_size=3, stride=2, padding=0, dilation=1, ceil_mode=True)\n",
              "  (inception3a): Inception(\n",
              "    (branch1): BasicConv2d(\n",
              "      (conv): Conv2d(192, 64, kernel_size=(1, 1), stride=(1, 1), bias=False)\n",
              "      (bn): BatchNorm2d(64, eps=0.001, momentum=0.1, affine=True, track_running_stats=True)\n",
              "    )\n",
              "    (branch2): Sequential(\n",
              "      (0): BasicConv2d(\n",
              "        (conv): Conv2d(192, 96, kernel_size=(1, 1), stride=(1, 1), bias=False)\n",
              "        (bn): BatchNorm2d(96, eps=0.001, momentum=0.1, affine=True, track_running_stats=True)\n",
              "      )\n",
              "      (1): BasicConv2d(\n",
              "        (conv): Conv2d(96, 128, kernel_size=(3, 3), stride=(1, 1), padding=(1, 1), bias=False)\n",
              "        (bn): BatchNorm2d(128, eps=0.001, momentum=0.1, affine=True, track_running_stats=True)\n",
              "      )\n",
              "    )\n",
              "    (branch3): Sequential(\n",
              "      (0): BasicConv2d(\n",
              "        (conv): Conv2d(192, 16, kernel_size=(1, 1), stride=(1, 1), bias=False)\n",
              "        (bn): BatchNorm2d(16, eps=0.001, momentum=0.1, affine=True, track_running_stats=True)\n",
              "      )\n",
              "      (1): BasicConv2d(\n",
              "        (conv): Conv2d(16, 32, kernel_size=(3, 3), stride=(1, 1), padding=(1, 1), bias=False)\n",
              "        (bn): BatchNorm2d(32, eps=0.001, momentum=0.1, affine=True, track_running_stats=True)\n",
              "      )\n",
              "    )\n",
              "    (branch4): Sequential(\n",
              "      (0): MaxPool2d(kernel_size=3, stride=1, padding=1, dilation=1, ceil_mode=True)\n",
              "      (1): BasicConv2d(\n",
              "        (conv): Conv2d(192, 32, kernel_size=(1, 1), stride=(1, 1), bias=False)\n",
              "        (bn): BatchNorm2d(32, eps=0.001, momentum=0.1, affine=True, track_running_stats=True)\n",
              "      )\n",
              "    )\n",
              "  )\n",
              "  (inception3b): Inception(\n",
              "    (branch1): BasicConv2d(\n",
              "      (conv): Conv2d(256, 128, kernel_size=(1, 1), stride=(1, 1), bias=False)\n",
              "      (bn): BatchNorm2d(128, eps=0.001, momentum=0.1, affine=True, track_running_stats=True)\n",
              "    )\n",
              "    (branch2): Sequential(\n",
              "      (0): BasicConv2d(\n",
              "        (conv): Conv2d(256, 128, kernel_size=(1, 1), stride=(1, 1), bias=False)\n",
              "        (bn): BatchNorm2d(128, eps=0.001, momentum=0.1, affine=True, track_running_stats=True)\n",
              "      )\n",
              "      (1): BasicConv2d(\n",
              "        (conv): Conv2d(128, 192, kernel_size=(3, 3), stride=(1, 1), padding=(1, 1), bias=False)\n",
              "        (bn): BatchNorm2d(192, eps=0.001, momentum=0.1, affine=True, track_running_stats=True)\n",
              "      )\n",
              "    )\n",
              "    (branch3): Sequential(\n",
              "      (0): BasicConv2d(\n",
              "        (conv): Conv2d(256, 32, kernel_size=(1, 1), stride=(1, 1), bias=False)\n",
              "        (bn): BatchNorm2d(32, eps=0.001, momentum=0.1, affine=True, track_running_stats=True)\n",
              "      )\n",
              "      (1): BasicConv2d(\n",
              "        (conv): Conv2d(32, 96, kernel_size=(3, 3), stride=(1, 1), padding=(1, 1), bias=False)\n",
              "        (bn): BatchNorm2d(96, eps=0.001, momentum=0.1, affine=True, track_running_stats=True)\n",
              "      )\n",
              "    )\n",
              "    (branch4): Sequential(\n",
              "      (0): MaxPool2d(kernel_size=3, stride=1, padding=1, dilation=1, ceil_mode=True)\n",
              "      (1): BasicConv2d(\n",
              "        (conv): Conv2d(256, 64, kernel_size=(1, 1), stride=(1, 1), bias=False)\n",
              "        (bn): BatchNorm2d(64, eps=0.001, momentum=0.1, affine=True, track_running_stats=True)\n",
              "      )\n",
              "    )\n",
              "  )\n",
              "  (maxpool3): MaxPool2d(kernel_size=3, stride=2, padding=0, dilation=1, ceil_mode=True)\n",
              "  (inception4a): Inception(\n",
              "    (branch1): BasicConv2d(\n",
              "      (conv): Conv2d(480, 192, kernel_size=(1, 1), stride=(1, 1), bias=False)\n",
              "      (bn): BatchNorm2d(192, eps=0.001, momentum=0.1, affine=True, track_running_stats=True)\n",
              "    )\n",
              "    (branch2): Sequential(\n",
              "      (0): BasicConv2d(\n",
              "        (conv): Conv2d(480, 96, kernel_size=(1, 1), stride=(1, 1), bias=False)\n",
              "        (bn): BatchNorm2d(96, eps=0.001, momentum=0.1, affine=True, track_running_stats=True)\n",
              "      )\n",
              "      (1): BasicConv2d(\n",
              "        (conv): Conv2d(96, 208, kernel_size=(3, 3), stride=(1, 1), padding=(1, 1), bias=False)\n",
              "        (bn): BatchNorm2d(208, eps=0.001, momentum=0.1, affine=True, track_running_stats=True)\n",
              "      )\n",
              "    )\n",
              "    (branch3): Sequential(\n",
              "      (0): BasicConv2d(\n",
              "        (conv): Conv2d(480, 16, kernel_size=(1, 1), stride=(1, 1), bias=False)\n",
              "        (bn): BatchNorm2d(16, eps=0.001, momentum=0.1, affine=True, track_running_stats=True)\n",
              "      )\n",
              "      (1): BasicConv2d(\n",
              "        (conv): Conv2d(16, 48, kernel_size=(3, 3), stride=(1, 1), padding=(1, 1), bias=False)\n",
              "        (bn): BatchNorm2d(48, eps=0.001, momentum=0.1, affine=True, track_running_stats=True)\n",
              "      )\n",
              "    )\n",
              "    (branch4): Sequential(\n",
              "      (0): MaxPool2d(kernel_size=3, stride=1, padding=1, dilation=1, ceil_mode=True)\n",
              "      (1): BasicConv2d(\n",
              "        (conv): Conv2d(480, 64, kernel_size=(1, 1), stride=(1, 1), bias=False)\n",
              "        (bn): BatchNorm2d(64, eps=0.001, momentum=0.1, affine=True, track_running_stats=True)\n",
              "      )\n",
              "    )\n",
              "  )\n",
              "  (inception4b): Inception(\n",
              "    (branch1): BasicConv2d(\n",
              "      (conv): Conv2d(512, 160, kernel_size=(1, 1), stride=(1, 1), bias=False)\n",
              "      (bn): BatchNorm2d(160, eps=0.001, momentum=0.1, affine=True, track_running_stats=True)\n",
              "    )\n",
              "    (branch2): Sequential(\n",
              "      (0): BasicConv2d(\n",
              "        (conv): Conv2d(512, 112, kernel_size=(1, 1), stride=(1, 1), bias=False)\n",
              "        (bn): BatchNorm2d(112, eps=0.001, momentum=0.1, affine=True, track_running_stats=True)\n",
              "      )\n",
              "      (1): BasicConv2d(\n",
              "        (conv): Conv2d(112, 224, kernel_size=(3, 3), stride=(1, 1), padding=(1, 1), bias=False)\n",
              "        (bn): BatchNorm2d(224, eps=0.001, momentum=0.1, affine=True, track_running_stats=True)\n",
              "      )\n",
              "    )\n",
              "    (branch3): Sequential(\n",
              "      (0): BasicConv2d(\n",
              "        (conv): Conv2d(512, 24, kernel_size=(1, 1), stride=(1, 1), bias=False)\n",
              "        (bn): BatchNorm2d(24, eps=0.001, momentum=0.1, affine=True, track_running_stats=True)\n",
              "      )\n",
              "      (1): BasicConv2d(\n",
              "        (conv): Conv2d(24, 64, kernel_size=(3, 3), stride=(1, 1), padding=(1, 1), bias=False)\n",
              "        (bn): BatchNorm2d(64, eps=0.001, momentum=0.1, affine=True, track_running_stats=True)\n",
              "      )\n",
              "    )\n",
              "    (branch4): Sequential(\n",
              "      (0): MaxPool2d(kernel_size=3, stride=1, padding=1, dilation=1, ceil_mode=True)\n",
              "      (1): BasicConv2d(\n",
              "        (conv): Conv2d(512, 64, kernel_size=(1, 1), stride=(1, 1), bias=False)\n",
              "        (bn): BatchNorm2d(64, eps=0.001, momentum=0.1, affine=True, track_running_stats=True)\n",
              "      )\n",
              "    )\n",
              "  )\n",
              "  (inception4c): Inception(\n",
              "    (branch1): BasicConv2d(\n",
              "      (conv): Conv2d(512, 128, kernel_size=(1, 1), stride=(1, 1), bias=False)\n",
              "      (bn): BatchNorm2d(128, eps=0.001, momentum=0.1, affine=True, track_running_stats=True)\n",
              "    )\n",
              "    (branch2): Sequential(\n",
              "      (0): BasicConv2d(\n",
              "        (conv): Conv2d(512, 128, kernel_size=(1, 1), stride=(1, 1), bias=False)\n",
              "        (bn): BatchNorm2d(128, eps=0.001, momentum=0.1, affine=True, track_running_stats=True)\n",
              "      )\n",
              "      (1): BasicConv2d(\n",
              "        (conv): Conv2d(128, 256, kernel_size=(3, 3), stride=(1, 1), padding=(1, 1), bias=False)\n",
              "        (bn): BatchNorm2d(256, eps=0.001, momentum=0.1, affine=True, track_running_stats=True)\n",
              "      )\n",
              "    )\n",
              "    (branch3): Sequential(\n",
              "      (0): BasicConv2d(\n",
              "        (conv): Conv2d(512, 24, kernel_size=(1, 1), stride=(1, 1), bias=False)\n",
              "        (bn): BatchNorm2d(24, eps=0.001, momentum=0.1, affine=True, track_running_stats=True)\n",
              "      )\n",
              "      (1): BasicConv2d(\n",
              "        (conv): Conv2d(24, 64, kernel_size=(3, 3), stride=(1, 1), padding=(1, 1), bias=False)\n",
              "        (bn): BatchNorm2d(64, eps=0.001, momentum=0.1, affine=True, track_running_stats=True)\n",
              "      )\n",
              "    )\n",
              "    (branch4): Sequential(\n",
              "      (0): MaxPool2d(kernel_size=3, stride=1, padding=1, dilation=1, ceil_mode=True)\n",
              "      (1): BasicConv2d(\n",
              "        (conv): Conv2d(512, 64, kernel_size=(1, 1), stride=(1, 1), bias=False)\n",
              "        (bn): BatchNorm2d(64, eps=0.001, momentum=0.1, affine=True, track_running_stats=True)\n",
              "      )\n",
              "    )\n",
              "  )\n",
              "  (inception4d): Inception(\n",
              "    (branch1): BasicConv2d(\n",
              "      (conv): Conv2d(512, 112, kernel_size=(1, 1), stride=(1, 1), bias=False)\n",
              "      (bn): BatchNorm2d(112, eps=0.001, momentum=0.1, affine=True, track_running_stats=True)\n",
              "    )\n",
              "    (branch2): Sequential(\n",
              "      (0): BasicConv2d(\n",
              "        (conv): Conv2d(512, 144, kernel_size=(1, 1), stride=(1, 1), bias=False)\n",
              "        (bn): BatchNorm2d(144, eps=0.001, momentum=0.1, affine=True, track_running_stats=True)\n",
              "      )\n",
              "      (1): BasicConv2d(\n",
              "        (conv): Conv2d(144, 288, kernel_size=(3, 3), stride=(1, 1), padding=(1, 1), bias=False)\n",
              "        (bn): BatchNorm2d(288, eps=0.001, momentum=0.1, affine=True, track_running_stats=True)\n",
              "      )\n",
              "    )\n",
              "    (branch3): Sequential(\n",
              "      (0): BasicConv2d(\n",
              "        (conv): Conv2d(512, 32, kernel_size=(1, 1), stride=(1, 1), bias=False)\n",
              "        (bn): BatchNorm2d(32, eps=0.001, momentum=0.1, affine=True, track_running_stats=True)\n",
              "      )\n",
              "      (1): BasicConv2d(\n",
              "        (conv): Conv2d(32, 64, kernel_size=(3, 3), stride=(1, 1), padding=(1, 1), bias=False)\n",
              "        (bn): BatchNorm2d(64, eps=0.001, momentum=0.1, affine=True, track_running_stats=True)\n",
              "      )\n",
              "    )\n",
              "    (branch4): Sequential(\n",
              "      (0): MaxPool2d(kernel_size=3, stride=1, padding=1, dilation=1, ceil_mode=True)\n",
              "      (1): BasicConv2d(\n",
              "        (conv): Conv2d(512, 64, kernel_size=(1, 1), stride=(1, 1), bias=False)\n",
              "        (bn): BatchNorm2d(64, eps=0.001, momentum=0.1, affine=True, track_running_stats=True)\n",
              "      )\n",
              "    )\n",
              "  )\n",
              "  (inception4e): Inception(\n",
              "    (branch1): BasicConv2d(\n",
              "      (conv): Conv2d(528, 256, kernel_size=(1, 1), stride=(1, 1), bias=False)\n",
              "      (bn): BatchNorm2d(256, eps=0.001, momentum=0.1, affine=True, track_running_stats=True)\n",
              "    )\n",
              "    (branch2): Sequential(\n",
              "      (0): BasicConv2d(\n",
              "        (conv): Conv2d(528, 160, kernel_size=(1, 1), stride=(1, 1), bias=False)\n",
              "        (bn): BatchNorm2d(160, eps=0.001, momentum=0.1, affine=True, track_running_stats=True)\n",
              "      )\n",
              "      (1): BasicConv2d(\n",
              "        (conv): Conv2d(160, 320, kernel_size=(3, 3), stride=(1, 1), padding=(1, 1), bias=False)\n",
              "        (bn): BatchNorm2d(320, eps=0.001, momentum=0.1, affine=True, track_running_stats=True)\n",
              "      )\n",
              "    )\n",
              "    (branch3): Sequential(\n",
              "      (0): BasicConv2d(\n",
              "        (conv): Conv2d(528, 32, kernel_size=(1, 1), stride=(1, 1), bias=False)\n",
              "        (bn): BatchNorm2d(32, eps=0.001, momentum=0.1, affine=True, track_running_stats=True)\n",
              "      )\n",
              "      (1): BasicConv2d(\n",
              "        (conv): Conv2d(32, 128, kernel_size=(3, 3), stride=(1, 1), padding=(1, 1), bias=False)\n",
              "        (bn): BatchNorm2d(128, eps=0.001, momentum=0.1, affine=True, track_running_stats=True)\n",
              "      )\n",
              "    )\n",
              "    (branch4): Sequential(\n",
              "      (0): MaxPool2d(kernel_size=3, stride=1, padding=1, dilation=1, ceil_mode=True)\n",
              "      (1): BasicConv2d(\n",
              "        (conv): Conv2d(528, 128, kernel_size=(1, 1), stride=(1, 1), bias=False)\n",
              "        (bn): BatchNorm2d(128, eps=0.001, momentum=0.1, affine=True, track_running_stats=True)\n",
              "      )\n",
              "    )\n",
              "  )\n",
              "  (maxpool4): MaxPool2d(kernel_size=2, stride=2, padding=0, dilation=1, ceil_mode=True)\n",
              "  (inception5a): Inception(\n",
              "    (branch1): BasicConv2d(\n",
              "      (conv): Conv2d(832, 256, kernel_size=(1, 1), stride=(1, 1), bias=False)\n",
              "      (bn): BatchNorm2d(256, eps=0.001, momentum=0.1, affine=True, track_running_stats=True)\n",
              "    )\n",
              "    (branch2): Sequential(\n",
              "      (0): BasicConv2d(\n",
              "        (conv): Conv2d(832, 160, kernel_size=(1, 1), stride=(1, 1), bias=False)\n",
              "        (bn): BatchNorm2d(160, eps=0.001, momentum=0.1, affine=True, track_running_stats=True)\n",
              "      )\n",
              "      (1): BasicConv2d(\n",
              "        (conv): Conv2d(160, 320, kernel_size=(3, 3), stride=(1, 1), padding=(1, 1), bias=False)\n",
              "        (bn): BatchNorm2d(320, eps=0.001, momentum=0.1, affine=True, track_running_stats=True)\n",
              "      )\n",
              "    )\n",
              "    (branch3): Sequential(\n",
              "      (0): BasicConv2d(\n",
              "        (conv): Conv2d(832, 32, kernel_size=(1, 1), stride=(1, 1), bias=False)\n",
              "        (bn): BatchNorm2d(32, eps=0.001, momentum=0.1, affine=True, track_running_stats=True)\n",
              "      )\n",
              "      (1): BasicConv2d(\n",
              "        (conv): Conv2d(32, 128, kernel_size=(3, 3), stride=(1, 1), padding=(1, 1), bias=False)\n",
              "        (bn): BatchNorm2d(128, eps=0.001, momentum=0.1, affine=True, track_running_stats=True)\n",
              "      )\n",
              "    )\n",
              "    (branch4): Sequential(\n",
              "      (0): MaxPool2d(kernel_size=3, stride=1, padding=1, dilation=1, ceil_mode=True)\n",
              "      (1): BasicConv2d(\n",
              "        (conv): Conv2d(832, 128, kernel_size=(1, 1), stride=(1, 1), bias=False)\n",
              "        (bn): BatchNorm2d(128, eps=0.001, momentum=0.1, affine=True, track_running_stats=True)\n",
              "      )\n",
              "    )\n",
              "  )\n",
              "  (inception5b): Inception(\n",
              "    (branch1): BasicConv2d(\n",
              "      (conv): Conv2d(832, 384, kernel_size=(1, 1), stride=(1, 1), bias=False)\n",
              "      (bn): BatchNorm2d(384, eps=0.001, momentum=0.1, affine=True, track_running_stats=True)\n",
              "    )\n",
              "    (branch2): Sequential(\n",
              "      (0): BasicConv2d(\n",
              "        (conv): Conv2d(832, 192, kernel_size=(1, 1), stride=(1, 1), bias=False)\n",
              "        (bn): BatchNorm2d(192, eps=0.001, momentum=0.1, affine=True, track_running_stats=True)\n",
              "      )\n",
              "      (1): BasicConv2d(\n",
              "        (conv): Conv2d(192, 384, kernel_size=(3, 3), stride=(1, 1), padding=(1, 1), bias=False)\n",
              "        (bn): BatchNorm2d(384, eps=0.001, momentum=0.1, affine=True, track_running_stats=True)\n",
              "      )\n",
              "    )\n",
              "    (branch3): Sequential(\n",
              "      (0): BasicConv2d(\n",
              "        (conv): Conv2d(832, 48, kernel_size=(1, 1), stride=(1, 1), bias=False)\n",
              "        (bn): BatchNorm2d(48, eps=0.001, momentum=0.1, affine=True, track_running_stats=True)\n",
              "      )\n",
              "      (1): BasicConv2d(\n",
              "        (conv): Conv2d(48, 128, kernel_size=(3, 3), stride=(1, 1), padding=(1, 1), bias=False)\n",
              "        (bn): BatchNorm2d(128, eps=0.001, momentum=0.1, affine=True, track_running_stats=True)\n",
              "      )\n",
              "    )\n",
              "    (branch4): Sequential(\n",
              "      (0): MaxPool2d(kernel_size=3, stride=1, padding=1, dilation=1, ceil_mode=True)\n",
              "      (1): BasicConv2d(\n",
              "        (conv): Conv2d(832, 128, kernel_size=(1, 1), stride=(1, 1), bias=False)\n",
              "        (bn): BatchNorm2d(128, eps=0.001, momentum=0.1, affine=True, track_running_stats=True)\n",
              "      )\n",
              "    )\n",
              "  )\n",
              "  (aux1): None\n",
              "  (aux2): None\n",
              "  (avgpool): AdaptiveAvgPool2d(output_size=(1, 1))\n",
              "  (dropout): Dropout(p=0.2, inplace=False)\n",
              "  (fc): Linear(in_features=1024, out_features=1000, bias=True)\n",
              ")"
            ]
          },
          "metadata": {},
          "execution_count": 3
        }
      ]
    },
    {
      "cell_type": "code",
      "metadata": {
        "id": "ZnCU-Z4-zqN7"
      },
      "source": [
        ""
      ],
      "execution_count": null,
      "outputs": []
    }
  ]
}